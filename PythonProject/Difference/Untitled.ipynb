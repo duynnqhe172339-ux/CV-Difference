{
 "cells": [
  {
   "cell_type": "code",
   "execution_count": 2,
   "id": "c3106448",
   "metadata": {},
   "outputs": [],
   "source": [
    "img1, img2=Image.open('1.jpg'),Image.open('2.jpg')\n",
    "diff=ImageChops.difference(img1,img2)\n",
    "\n",
    "if diff.getbbox():\n",
    "    diff.show()\n",
    "else:\n",
    "    print('Chưa tìm thấy điểm khác biệt')"
   ]
  },
  {
   "cell_type": "code",
   "execution_count": 18,
   "id": "73e09e98",
   "metadata": {},
   "outputs": [],
   "source": [
    "#Chuyển định dạng ảnh, có vẻ như khi nén ảnh theo jpg thì nó sẽ chỉnh sửa một số chỗ nên có sự sai sót khi tìm điểm khác nhau\n",
    "from PIL import Image\n",
    "im = Image.open('3.jpg')\n",
    "im.save('3.png')"
   ]
  },
  {
   "cell_type": "code",
   "execution_count": 6,
   "id": "6e90cb41",
   "metadata": {
    "scrolled": true
   },
   "outputs": [
    {
     "name": "stdout",
     "output_type": "stream",
     "text": [
      "The images are differant\n",
      "x: 0 499\n",
      "y: 0 666\n",
      "width : 500\n",
      "height: 667\n",
      "center: (249, 333)\n",
      "radius: 333\n"
     ]
    }
   ],
   "source": [
    "import cv2 as cv\n",
    "import numpy as np\n",
    "\n",
    "# load images\n",
    "img1 = cv.imread(\"1.png\")\n",
    "img2 = cv.imread(\"2.png\")\n",
    "\n",
    "# calculate difference\n",
    "diff = cv.subtract(img1, img2)  # other order `(img2, img1)` gives worse result\n",
    "\n",
    "# saves difference\n",
    "cv.imwrite(\"difference.png\", diff)\n",
    "\n",
    "# show difference - press any key to close\n",
    "cv.imshow('diff', diff)\n",
    "cv.waitKey(0)\n",
    "cv.destroyWindow('diff')\n",
    "\n",
    "if not np.any(diff):\n",
    "    print(\"The images are the same!\")\n",
    "else:\n",
    "    print(\"The images are differant\")\n",
    "\n",
    "# resize images to make them smaller\n",
    "img1_resized = cv.resize(img1, (0, 0), fx=0.5, fy=0.5)\n",
    "diff_resized = cv.resize(diff, (0, 0), fx=0.5, fy=0.5)    \n",
    "img1_resized = img1\n",
    "diff_resized = diff\n",
    "\n",
    "# convert to grayscale (without saving and loading again)\n",
    "diff_resized = cv.cvtColor(diff_resized, cv.COLOR_BGR2GRAY)\n",
    "\n",
    "# find anything not black in differance\n",
    "non_zero = cv.findNonZero(diff_resized)\n",
    "#print(non_zero)\n",
    "\n",
    "# find top, bottom, left and right edge of the differance\n",
    "x_min = non_zero[:,0,0].min()\n",
    "x_max = non_zero[:,0,0].max()\n",
    "y_min = non_zero[:,0,1].min()\n",
    "y_max = non_zero[:,0,1].max()\n",
    "print('x:', x_min, x_max)\n",
    "print('y:', y_min, y_max)\n",
    "\n",
    "sizes = [x_max-x_min+1, y_max-y_min+1]\n",
    "print('width :', sizes[0])\n",
    "print('height:', sizes[1])\n",
    "\n",
    "# center \n",
    "center_x = (x_min + x_max) // 2\n",
    "center_y = (y_min + y_max) // 2\n",
    "center = (center_x, center_y)\n",
    "print('center:', center)\n",
    "\n",
    "# radius \n",
    "radius = max(sizes) // 2\n",
    "print('radius:', radius)\n",
    "\n",
    "color = (0, 0, 255)\n",
    "thickness = 2\n",
    "\n",
    "# draw circle around the center of the differance\n",
    "finished = cv.circle(img1_resized, center, radius, color, thickness)\n",
    "\n",
    "# saves final image with circle\n",
    "#cv.imwrite(\"final.png\", finished)\n",
    "\n",
    "# show final image - press any key to close\n",
    "cv.imshow('finished', finished)\n",
    "cv.waitKey(0)\n",
    "cv.destroyWindow('finished')"
   ]
  },
  {
   "cell_type": "code",
   "execution_count": null,
   "id": "7a3e30a1",
   "metadata": {},
   "outputs": [
    {
     "name": "stderr",
     "output_type": "stream",
     "text": [
      "C:\\Users\\admin\\anaconda3\\Lib\\site-packages\\paramiko\\transport.py:219: CryptographyDeprecationWarning: Blowfish has been deprecated\n",
      "  \"class\": algorithms.Blowfish,\n"
     ]
    },
    {
     "name": "stdout",
     "output_type": "stream",
     "text": [
      "Image Similarity: 96.9648%\n"
     ]
    }
   ],
   "source": [
    "from skimage.metrics import structural_similarity\n",
    "import cv2\n",
    "import numpy as np\n",
    "\n",
    "# Load images\n",
    "before = cv2.imread('1.jpg')\n",
    "after = cv2.imread('2.jpg')\n",
    "\n",
    "# Convert images to grayscale\n",
    "before_gray = cv2.cvtColor(before, cv2.COLOR_BGR2GRAY)\n",
    "after_gray = cv2.cvtColor(after, cv2.COLOR_BGR2GRAY)\n",
    "\n",
    "# Compute SSIM between the two images\n",
    "(score, diff) = structural_similarity(before_gray, after_gray, full=True)\n",
    "print(\"Image Similarity: {:.4f}%\".format(score * 100))\n",
    "\n",
    "# The diff image contains the actual image differences between the two images\n",
    "# and is represented as a floating point data type in the range [0,1] \n",
    "# so we must convert the array to 8-bit unsigned integers in the range\n",
    "# [0,255] before we can use it with OpenCV\n",
    "diff = (diff * 255).astype(\"uint8\")\n",
    "diff_box = cv2.merge([diff, diff, diff])\n",
    "\n",
    "# Threshold the difference image, followed by finding contours to\n",
    "# obtain the regions of the two input images that differ\n",
    "thresh = cv2.threshold(diff, 0, 255, cv2.THRESH_BINARY_INV | cv2.THRESH_OTSU)[1]\n",
    "contours = cv2.findContours(thresh, cv2.RETR_EXTERNAL, cv2.CHAIN_APPROX_SIMPLE)\n",
    "contours = contours[0] if len(contours) == 2 else contours[1]\n",
    "\n",
    "mask = np.zeros(before.shape, dtype='uint8')\n",
    "filled_after = after.copy()\n",
    "\n",
    "for c in contours:\n",
    "    area = cv2.contourArea(c)\n",
    "    if area > 40:\n",
    "        x,y,w,h = cv2.boundingRect(c)\n",
    "        cv2.rectangle(before, (x, y), (x + w, y + h), (36,255,12), 2)\n",
    "        cv2.rectangle(after, (x, y), (x + w, y + h), (36,255,12), 2)\n",
    "        cv2.rectangle(diff_box, (x, y), (x + w, y + h), (36,255,12), 2)\n",
    "        cv2.drawContours(mask, [c], 0, (255,255,255), -1)\n",
    "        cv2.drawContours(filled_after, [c], 0, (0,255,0), -1)\n",
    "\n",
    "cv2.imshow('before', before)\n",
    "cv2.imshow('after', after)\n",
    "cv2.imshow('diff', diff)\n",
    "cv2.imshow('diff_box', diff_box)\n",
    "cv2.imshow('mask', mask)\n",
    "cv2.imshow('filled after', filled_after)\n",
    "cv2.waitKey()"
   ]
  },
  {
   "cell_type": "code",
   "execution_count": null,
   "id": "b4d18f2a",
   "metadata": {},
   "outputs": [],
   "source": []
  }
 ],
 "metadata": {
  "kernelspec": {
   "display_name": "Python 3 (ipykernel)",
   "language": "python",
   "name": "python3"
  },
  "language_info": {
   "codemirror_mode": {
    "name": "ipython",
    "version": 3
   },
   "file_extension": ".py",
   "mimetype": "text/x-python",
   "name": "python",
   "nbconvert_exporter": "python",
   "pygments_lexer": "ipython3",
   "version": "3.11.3"
  }
 },
 "nbformat": 4,
 "nbformat_minor": 5
}
